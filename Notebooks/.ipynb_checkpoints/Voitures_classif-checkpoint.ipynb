{
 "cells": [
  {
   "cell_type": "code",
   "execution_count": 5,
   "metadata": {},
   "outputs": [
    {
     "ename": "ModuleNotFoundError",
     "evalue": "No module named 'main'",
     "output_type": "error",
     "traceback": [
      "\u001b[0;31m---------------------------------------------------------------------------\u001b[0m",
      "\u001b[0;31mModuleNotFoundError\u001b[0m                       Traceback (most recent call last)",
      "\u001b[0;32m<ipython-input-5-0bd68fcd43ed>\u001b[0m in \u001b[0;36m<module>\u001b[0;34m\u001b[0m\n\u001b[0;32m----> 1\u001b[0;31m \u001b[0;32mfrom\u001b[0m \u001b[0mmain\u001b[0m \u001b[0;32mimport\u001b[0m \u001b[0;34m*\u001b[0m\u001b[0;34m\u001b[0m\u001b[0;34m\u001b[0m\u001b[0m\n\u001b[0m\u001b[1;32m      2\u001b[0m \u001b[0;34m\u001b[0m\u001b[0m\n\u001b[1;32m      3\u001b[0m \u001b[0;34m\u001b[0m\u001b[0m\n\u001b[1;32m      4\u001b[0m \u001b[0;31m# Functions to compute endogenous variables\u001b[0m\u001b[0;34m\u001b[0m\u001b[0;34m\u001b[0m\u001b[0;34m\u001b[0m\u001b[0m\n\u001b[1;32m      5\u001b[0m \u001b[0;32mdef\u001b[0m \u001b[0mcompute_prix_plein\u001b[0m\u001b[0;34m(\u001b[0m\u001b[0mparam\u001b[0m\u001b[0;34m)\u001b[0m\u001b[0;34m:\u001b[0m\u001b[0;34m\u001b[0m\u001b[0;34m\u001b[0m\u001b[0m\n",
      "\u001b[0;31mModuleNotFoundError\u001b[0m: No module named 'main'"
     ]
    }
   ],
   "source": [
    "from main import *\n",
    "\n",
    "\n",
    "# Functions to compute endogenous variables\n",
    "def compute_prix_plein(param):\n",
    "    return param['prix_carburant'] * param['capacite_carburant'] #prix_carburant*capacite_carburant\n",
    "\n",
    "def compute_prix_assurance(param):\n",
    "    return 10000*(1/(2022-param['annee_prod'])**2)\n",
    "\n",
    "def compute_prix_Carburant(param):\n",
    "    carbu = param['type_carburant']\n",
    "    if carbu == 'Diesel': #type_carburant\n",
    "        return 1.50\n",
    "    elif carbu == 'Essence': #type_carburant\n",
    "        return 1.6\n",
    "    else:\n",
    "        return 0.72\n",
    "\n",
    "def compute_capacite_carburant(param):\n",
    "    return param['longueur']*param['hauteur']*20 #longueur*hauteur*20\n",
    "\n",
    "def compute_output(param):\n",
    "    #tmp = 20 * nb_places + nb_chevaux + prix_plein//2 + annee_prod//10 + prix_assurance\n",
    "    tmp = 20 * param['nb_places'] + param['nb_chevaux'] + param['prix_plein']//2 + param['annee_prod']//10 + param['prix_assurance']\n",
    "    tmp -= 250 #tmp in [0,550]\n",
    "    tmp = tmp//130 #tmp in [0,4]\n",
    "    if tmp == 0:\n",
    "        return 'peu cher'\n",
    "    elif tmp == 1:\n",
    "        return 'cher'\n",
    "    elif tmp == 2:\n",
    "        return 'très cher'\n",
    "    elif tmp >= 3:\n",
    "        return 'très très cher'\n",
    "\n",
    "# Exogenous variables\n",
    "U = {'nb_places':[1,2,3,4,5,6,7], \\\n",
    "    'nb_chevaux':[20,30,40,50,60,70,80,90,100,120], \\\n",
    "    'longueur':[1.5,2,3,4], \\\n",
    "    'hauteur':[1.6,1.7,1.8,1.9], \\\n",
    "    'type_carburant':['Diesel','Essence','Gazeux'], \\\n",
    "    'annee_prod':[1930,1940,1950,1960,1970,1980,1990,2000,2010,2020]}\n",
    "\n",
    "# Endogenous variables\n",
    "V = {'prix_carburant':[1.50,1.6,0.72], \\\n",
    "    'prix_plein':[72.0, 76.5, 81.0, 85.5, 102.0, 108.0, 114.0, 144.0, 153.0, 162.0, 171.0, 192.0, 204.0, 216.0, 228.0, 76.8, 81.6, 86.4, 91.2, 102.4,\n",
    "108.8, 115.2, 121.6, 153.6, 163.2, 172.8, 182.4, 204.8, 217.6, 230.4, 243.2, 34.56, 36.72, 38.88, 41.04, 46.08, 48.96,\n",
    "51.84, 54.72, 69.12, 73.44, 77.76, 82.08, 92.16, 97.92, 103.68, 109.44], \\\n",
    "    'prix_assurance':[1.18, 1.49, 1.93, 2.60, 3.7, 5.67, 9.77, 20.66, 69.44, 2500], \\\n",
    "    'capacite_carburant':[48, 51, 54, 57, 64, 68, 72, 76, 96, 102, 108, 114, 128, 136, 144, 152], \\\n",
    "    'output':['peu cher','cher','très cher','très très cher']}\n",
    "\n",
    "# Parent node for each endogenous variable\n",
    "P = {'prix_carburant':(['type_carburant'],compute_prix_Carburant), \\\n",
    "    'prix_plein':(['prix_carburant','capacite_carburant'],compute_prix_plein), \\\n",
    "    'prix_assurance':(['annee_prod'],compute_prix_assurance), \\\n",
    "    'capacite_carburant':(['longueur','hauteur'],compute_capacite_carburant), \\\n",
    "    'output':(['nb_places','nb_chevaux','prix_plein','annee_prod','prix_assurance'],compute_output)}\n",
    "\n",
    "C =  {'type_carburant':['prix_carburant'], \\\n",
    "    'prix_carburant':['prix_plein'], \\\n",
    "    'annee_prod':['prix_assurance','output'], \\\n",
    "    'longueur':['capacite_carburant'], \\\n",
    "    'hauteur':['capacite_carburant'], \\\n",
    "    'nb_places':['output'],\\\n",
    "    'nb_chevaux':['output'],\\\n",
    "    'prix_plein':['output'],\\\n",
    "    'prix_assurance':['output']}\n"
   ]
  },
  {
   "cell_type": "code",
   "execution_count": 1,
   "metadata": {},
   "outputs": [
    {
     "ename": "NameError",
     "evalue": "name 'CausalGraph' is not defined",
     "output_type": "error",
     "traceback": [
      "\u001b[0;31m---------------------------------------------------------------------------\u001b[0m",
      "\u001b[0;31mNameError\u001b[0m                                 Traceback (most recent call last)",
      "\u001b[0;32m<ipython-input-1-f9a001f8d6c2>\u001b[0m in \u001b[0;36m<module>\u001b[0;34m\u001b[0m\n\u001b[1;32m      1\u001b[0m \u001b[0;31m# Construction of situation (M,u)\u001b[0m\u001b[0;34m\u001b[0m\u001b[0;34m\u001b[0m\u001b[0;34m\u001b[0m\u001b[0m\n\u001b[0;32m----> 2\u001b[0;31m \u001b[0mGraph\u001b[0m \u001b[0;34m=\u001b[0m \u001b[0mCausalGraph\u001b[0m\u001b[0;34m(\u001b[0m\u001b[0mP\u001b[0m\u001b[0;34m,\u001b[0m\u001b[0mC\u001b[0m\u001b[0;34m)\u001b[0m\u001b[0;34m\u001b[0m\u001b[0;34m\u001b[0m\u001b[0m\n\u001b[0m\u001b[1;32m      3\u001b[0m \u001b[0mMod\u001b[0m \u001b[0;34m=\u001b[0m \u001b[0mModel\u001b[0m\u001b[0;34m(\u001b[0m\u001b[0mU\u001b[0m\u001b[0;34m,\u001b[0m\u001b[0mV\u001b[0m\u001b[0;34m,\u001b[0m\u001b[0mGraph\u001b[0m\u001b[0;34m)\u001b[0m\u001b[0;34m\u001b[0m\u001b[0;34m\u001b[0m\u001b[0m\n\u001b[1;32m      4\u001b[0m \u001b[0;34m\u001b[0m\u001b[0m\n\u001b[1;32m      5\u001b[0m \u001b[0mu\u001b[0m \u001b[0;34m=\u001b[0m \u001b[0;34m{\u001b[0m\u001b[0;34m'nb_places'\u001b[0m\u001b[0;34m:\u001b[0m \u001b[0;36m3\u001b[0m\u001b[0;34m,\u001b[0m\u001b[0;34m'nb_chevaux'\u001b[0m\u001b[0;34m:\u001b[0m\u001b[0;36m30\u001b[0m\u001b[0;34m,\u001b[0m\u001b[0;34m'longueur'\u001b[0m \u001b[0;34m:\u001b[0m \u001b[0;36m3\u001b[0m\u001b[0;34m,\u001b[0m\u001b[0;34m'hauteur'\u001b[0m\u001b[0;34m:\u001b[0m \u001b[0;36m1.8\u001b[0m\u001b[0;34m,\u001b[0m \u001b[0;34m'type_carburant'\u001b[0m \u001b[0;34m:\u001b[0m \u001b[0;34m'Diesel'\u001b[0m\u001b[0;34m,\u001b[0m \u001b[0;34m'annee_prod'\u001b[0m\u001b[0;34m:\u001b[0m \u001b[0;36m1980\u001b[0m \u001b[0;34m}\u001b[0m\u001b[0;34m\u001b[0m\u001b[0;34m\u001b[0m\u001b[0m\n",
      "\u001b[0;31mNameError\u001b[0m: name 'CausalGraph' is not defined"
     ]
    }
   ],
   "source": [
    "# Construction of situation (M,u)\n",
    "Graph = CausalGraph(P,C)\n",
    "Mod = Model(U,V,Graph)\n",
    "\n",
    "u = {'nb_places': 3,'nb_chevaux':30,'longueur' : 3,'hauteur': 1.8, 'type_carburant' : 'Diesel', 'annee_prod': 1980 }\n",
    "v = dict()\n",
    "for k in V.keys():\n",
    "    v[k] = None\n",
    "\n",
    "Sit = Situation(Mod,u,v)\n",
    "Sit.set_val_v()\n",
    "fact = {'output':'peu cher'}\n",
    "foil = {'output':'cher'}\n",
    "assert(check(fact,Sit))\n",
    "assert(not(check(foil,Sit)))\n",
    "print(counterfactual_cause_generator(fact,foil,Sit))\n"
   ]
  },
  {
   "cell_type": "code",
   "execution_count": 4,
   "metadata": {},
   "outputs": [
    {
     "name": "stdout",
     "output_type": "stream",
     "text": [
      "False\n",
      "True\n"
     ]
    }
   ],
   "source": [
    "# Test de value\n",
    "assert(value(\"prix_carburant\",Sit)==1.5)\n",
    "assert(value(\"prix_plein\",Sit)==162.0)\n",
    "\n",
    "# Test de check\n",
    "phi = {'prix_carburant' : 1.5}\n",
    "assert(check(phi,Sit))\n",
    "\n",
    "phi = {'prix_plein' : 162.0}\n",
    "assert(check(phi,Sit))\n",
    "\n",
    "phi = {'prix_plein' : 162.0, 'prix_carburant' : 1.5}\n",
    "assert(check(phi,Sit))\n",
    "\n",
    "phi = {'prix_plein' : 162.0, 'prix_carburant' : 5}\n",
    "assert(not(check(phi,Sit)))\n",
    "\n",
    "# Test de AC1\n",
    "for k in Sit.v.keys():\n",
    "    Sit.v[k] = value(k,Sit)\n",
    "#print(Sit.v)\n",
    "\n",
    "x = {\"prix_carburant\" : 1.5}\n",
    "fact = {\"output\" : \"peu cher\"}\n",
    "assert(test_AC1(x,fact,Sit))\n",
    "\n",
    "x = {\"prix_carburant\" : 1.5}\n",
    "fact = {\"output\" : \"tres tres cher\"}\n",
    "assert(not(test_AC1(x,fact,Sit)))\n",
    "\n",
    "\n",
    "# Test de AC2\n",
    "x = {\"prix_carburant\" : 1.5}\n",
    "fact = {\"output\" : \"peu cher\"}\n",
    "print(test_AC2(x,fact,Sit,verbose=False))\n",
    "\n",
    "x = {'prix_carburant': 0, 'prix_plein': 0, 'prix_assurance' : 0}\n",
    "fact = {\"output\" : \"tres tres cher\"}\n",
    "print(test_AC2(x,fact,Sit,verbose=False))\n",
    "\n",
    "#test ACgenerator\n",
    "Mu = copy.deepcopy(Sit)\n",
    "Mu.set_val_v()\n",
    "fact = {'output':'peu cher'}\n",
    "\n",
    "for d in actual_cause_generator(fact,Sit):\n",
    "    assert test_AC1(d,fact,Mu)\n",
    "    assert test_AC2(d,fact,Mu)\n",
    "    assert test_AC3(d,fact,Mu)"
   ]
  }
 ],
 "metadata": {
  "kernelspec": {
   "display_name": "Python 3",
   "language": "python",
   "name": "python3"
  },
  "language_info": {
   "codemirror_mode": {
    "name": "ipython",
    "version": 3
   },
   "file_extension": ".py",
   "mimetype": "text/x-python",
   "name": "python",
   "nbconvert_exporter": "python",
   "pygments_lexer": "ipython3",
   "version": "3.7.6"
  }
 },
 "nbformat": 4,
 "nbformat_minor": 4
}
