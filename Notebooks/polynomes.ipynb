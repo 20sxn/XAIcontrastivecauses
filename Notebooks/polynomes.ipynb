{
 "cells": [
  {
   "cell_type": "markdown",
   "metadata": {},
   "source": [
    "The objective of this notebook is to plot the execution time of the generation functions `actual_cause_generator` and `counterfactual_cause_generator` when the maximal number of possible values of variables grows."
   ]
  },
  {
   "cell_type": "markdown",
   "metadata": {},
   "source": [
    "To do so, we will implement a causal graph computing the number of real roots of a quadratic function $ax^2+bx+c$. Coefficients $a,b,c$ will be random integers in the interval $[0,n-1]$, $n > 0$ a fixed hyperparameter. \\\n",
    "We thus have 3 exogenous variables $\\mathcal{U} = \\{a,b,c\\}$ and 2 endogenous variables $\\mathcal{V} = \\{delta,nroots\\}$ where $delta$ is the discriminant and $nroots$ the number of roots of the quadratic function."
   ]
  },
  {
   "cell_type": "code",
   "execution_count": 1,
   "metadata": {},
   "outputs": [],
   "source": [
    "from main import *\n",
    "from time import time\n",
    "import numpy as np"
   ]
  },
  {
   "cell_type": "code",
   "execution_count": 2,
   "metadata": {},
   "outputs": [],
   "source": [
    "# FUNCTIONS TO COMPUTE ENDOGENOUS VARIABLES\n",
    "\n",
    "def compute_delta(param):\n",
    "    return param['b']**2 - 4 * param['a'] * param['c']\n",
    "\n",
    "def compute_output(param):\n",
    "    delta = param['delta']\n",
    "    if delta < 0 :\n",
    "        return 0\n",
    "    elif delta == 0:\n",
    "        return 1\n",
    "    else:\n",
    "        return 2"
   ]
  },
  {
   "cell_type": "code",
   "execution_count": 38,
   "metadata": {},
   "outputs": [],
   "source": [
    "# CONSTRUCTION OF THE CAUSAL GRAPH\n",
    "\n",
    "n = 5 # hyperparameter\n",
    "\n",
    "#Exogenous variables\n",
    "U = {'a' : list(range(n)), 'b' : list(range(n)), 'c' : list(range(n))}\n",
    "\n",
    "#Endogenous variables\n",
    "V = {'delta' : list(range(-4*(n**2),(n**2)+1)), 'output' : [0,1,2]}\n",
    "\n",
    "#Graph : parent and children dictionnaries\n",
    "P = {'delta' : (['a','b','c'],compute_delta), 'output' : (['delta'],compute_output)}\n",
    "C = {'a' : ['delta'],'b' : ['delta'],'c' : ['delta'],'delta' : ['output'],'output' : []}\n",
    "\n",
    "#Situation (M,u)\n",
    "Graph = CausalGraph(P,C)\n",
    "Mod = Model(U,V,Graph)\n",
    "u = {'a' : np.random.randint(0,n), 'b' : np.random.randint(0,n), 'c' : np.random.randint(0,n)}\n",
    "v = {'delta' : None, 'output' : None }\n",
    "Sit = Situation(Mod,u,v)"
   ]
  },
  {
   "cell_type": "code",
   "execution_count": 39,
   "metadata": {},
   "outputs": [
    {
     "data": {
      "text/plain": [
       "{'a': 3, 'b': 0, 'c': 4}"
      ]
     },
     "execution_count": 39,
     "metadata": {},
     "output_type": "execute_result"
    }
   ],
   "source": [
    "Sit.u"
   ]
  },
  {
   "cell_type": "code",
   "execution_count": 40,
   "metadata": {},
   "outputs": [
    {
     "data": {
      "text/plain": [
       "{'delta': -48, 'output': 0}"
      ]
     },
     "execution_count": 40,
     "metadata": {},
     "output_type": "execute_result"
    }
   ],
   "source": [
    "value('output',Sit,set_val=True)\n",
    "Sit.v"
   ]
  },
  {
   "cell_type": "code",
   "execution_count": 41,
   "metadata": {},
   "outputs": [],
   "source": [
    "fact = {'output' : 1}\n",
    "foil = {'output' : 0}\n",
    "x = {'delta' : 16}\n",
    "y = {'delta' : 0}"
   ]
  },
  {
   "cell_type": "code",
   "execution_count": 42,
   "metadata": {},
   "outputs": [
    {
     "data": {
      "text/plain": [
       "False"
      ]
     },
     "execution_count": 42,
     "metadata": {},
     "output_type": "execute_result"
    }
   ],
   "source": [
    "test_actual_cause(x,fact,Sit)"
   ]
  },
  {
   "cell_type": "code",
   "execution_count": 43,
   "metadata": {},
   "outputs": [
    {
     "data": {
      "text/plain": [
       "False"
      ]
     },
     "execution_count": 43,
     "metadata": {},
     "output_type": "execute_result"
    }
   ],
   "source": [
    "test_AC1(x,fact,Sit)"
   ]
  },
  {
   "cell_type": "code",
   "execution_count": 44,
   "metadata": {},
   "outputs": [
    {
     "data": {
      "text/plain": [
       "True"
      ]
     },
     "execution_count": 44,
     "metadata": {},
     "output_type": "execute_result"
    }
   ],
   "source": [
    "test_AC2(x,fact,Sit)"
   ]
  },
  {
   "cell_type": "code",
   "execution_count": 45,
   "metadata": {},
   "outputs": [
    {
     "data": {
      "text/plain": [
       "False"
      ]
     },
     "execution_count": 45,
     "metadata": {},
     "output_type": "execute_result"
    }
   ],
   "source": [
    "test_counterfactual_cause(x, y, fact, foil, Sit)"
   ]
  },
  {
   "cell_type": "code",
   "execution_count": 46,
   "metadata": {},
   "outputs": [
    {
     "data": {
      "text/plain": [
       "[]"
      ]
     },
     "execution_count": 46,
     "metadata": {},
     "output_type": "execute_result"
    }
   ],
   "source": [
    "actual_cause_generator(fact,Sit,verbose = True)"
   ]
  },
  {
   "cell_type": "code",
   "execution_count": 47,
   "metadata": {},
   "outputs": [
    {
     "ename": "Exception",
     "evalue": "foil is True under Mu",
     "output_type": "error",
     "traceback": [
      "\u001b[0;31m---------------------------------------------------------------------------\u001b[0m",
      "\u001b[0;31mException\u001b[0m                                 Traceback (most recent call last)",
      "\u001b[0;32m<ipython-input-47-6ad280f68147>\u001b[0m in \u001b[0;36m<module>\u001b[0;34m\u001b[0m\n\u001b[0;32m----> 1\u001b[0;31m \u001b[0mcounterfactual_cause_generator\u001b[0m\u001b[0;34m(\u001b[0m\u001b[0mfact\u001b[0m\u001b[0;34m,\u001b[0m\u001b[0mfoil\u001b[0m\u001b[0;34m,\u001b[0m\u001b[0mSit\u001b[0m\u001b[0;34m,\u001b[0m\u001b[0mverbose\u001b[0m \u001b[0;34m=\u001b[0m \u001b[0;32mTrue\u001b[0m\u001b[0;34m)\u001b[0m\u001b[0;34m\u001b[0m\u001b[0;34m\u001b[0m\u001b[0m\n\u001b[0m",
      "\u001b[0;32m~/M1/S2/PLDAC/PL3/pldac_mais_pourquoi/main.py\u001b[0m in \u001b[0;36mcounterfactual_cause_generator\u001b[0;34m(fact, foil, Mu, verbose)\u001b[0m\n\u001b[1;32m    481\u001b[0m     \u001b[0;31m#CC2\u001b[0m\u001b[0;34m\u001b[0m\u001b[0;34m\u001b[0m\u001b[0;34m\u001b[0m\u001b[0m\n\u001b[1;32m    482\u001b[0m         \u001b[0;32mif\u001b[0m \u001b[0;32mnot\u001b[0m \u001b[0mcheck_not\u001b[0m\u001b[0;34m(\u001b[0m\u001b[0mfoil\u001b[0m\u001b[0;34m,\u001b[0m\u001b[0mMu\u001b[0m\u001b[0;34m)\u001b[0m\u001b[0;34m:\u001b[0m\u001b[0;34m\u001b[0m\u001b[0;34m\u001b[0m\u001b[0m\n\u001b[0;32m--> 483\u001b[0;31m                 \u001b[0;32mraise\u001b[0m \u001b[0mException\u001b[0m\u001b[0;34m(\u001b[0m\u001b[0;34m'foil is True under Mu'\u001b[0m\u001b[0;34m)\u001b[0m\u001b[0;34m\u001b[0m\u001b[0;34m\u001b[0m\u001b[0m\n\u001b[0m\u001b[1;32m    484\u001b[0m \u001b[0;34m\u001b[0m\u001b[0m\n\u001b[1;32m    485\u001b[0m         \u001b[0;32mif\u001b[0m \u001b[0;32mnot\u001b[0m \u001b[0mcheck\u001b[0m\u001b[0;34m(\u001b[0m\u001b[0mfact\u001b[0m\u001b[0;34m,\u001b[0m\u001b[0mMu\u001b[0m\u001b[0;34m)\u001b[0m\u001b[0;34m:\u001b[0m \u001b[0;31m#not in CC2 but better to test it early on.\u001b[0m\u001b[0;34m\u001b[0m\u001b[0;34m\u001b[0m\u001b[0m\n",
      "\u001b[0;31mException\u001b[0m: foil is True under Mu"
     ]
    }
   ],
   "source": [
    "counterfactual_cause_generator(fact,foil,Sit,verbose = True)"
   ]
  },
  {
   "cell_type": "code",
   "execution_count": null,
   "metadata": {},
   "outputs": [],
   "source": []
  }
 ],
 "metadata": {
  "kernelspec": {
   "display_name": "Python 3",
   "language": "python",
   "name": "python3"
  },
  "language_info": {
   "codemirror_mode": {
    "name": "ipython",
    "version": 3
   },
   "file_extension": ".py",
   "mimetype": "text/x-python",
   "name": "python",
   "nbconvert_exporter": "python",
   "pygments_lexer": "ipython3",
   "version": "3.7.6"
  }
 },
 "nbformat": 4,
 "nbformat_minor": 5
}
