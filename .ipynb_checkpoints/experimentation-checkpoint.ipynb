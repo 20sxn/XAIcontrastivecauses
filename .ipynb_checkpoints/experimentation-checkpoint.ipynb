{
 "cells": [
  {
   "cell_type": "code",
   "execution_count": 7,
   "metadata": {
    "scrolled": false
   },
   "outputs": [
    {
     "data": {
      "text/plain": [
       "[<matplotlib.lines.Line2D at 0x7f5c3a290cd0>]"
      ]
     },
     "execution_count": 7,
     "metadata": {},
     "output_type": "execute_result"
    },
    {
     "data": {
      "image/png": "[encoded data removed]",
      "text/plain": [
       "<Figure size 432x288 with 1 Axes>"
      ]
     },
     "metadata": {
      "needs_background": "light"
     },
     "output_type": "display_data"
    }
   ],
   "source": [
    "from main import *\n",
    "import random\n",
    "import time\n",
    "from matplotlib import pyplot as plt\n",
    "\n",
    "x = [2*i+1 for i in range(1,15)]\n",
    "d=[0.00025963783264160156, 0.0007290840148925781, 0.0014755725860595703, 0.01738762855529785, 0.019290685653686523, 0.18069791793823242, 0.4209606647491455, 1.1066009998321533, 3.8922643661499023, 19.21696162223816, 91.02272963523865, 350.203200340271, 4265.824367761612, 5228.523772954941]\n",
    "plt.xlabel(\"nombre totale de variables\")\n",
    "plt.ylabel(\"temps d'exécution (secondes)\")\n",
    "plt.title(\"Temps d'exécution du programme en fonction du nombre des variables\")\n",
    "plt.plot(x,d)"
   ]
  },
  {
   "cell_type": "markdown",
   "metadata": {},
   "source": [
    "## temps d'exécution en fonction du nombre des variables\n"
   ]
  },
  {
   "cell_type": "code",
   "execution_count": 46,
   "metadata": {
    "collapsed": true
   },
   "outputs": [
    {
     "name": "stdout",
     "output_type": "stream",
     "text": [
      "u {'exo0': True} \n",
      "\n",
      "u {'exo0': False, 'exo1': False} \n",
      "\n",
      "u {'exo0': True, 'exo1': False, 'exo2': False} \n",
      "\n",
      "u {'exo0': False, 'exo1': False, 'exo2': False, 'exo3': False} \n",
      "\n",
      "u {'exo0': True, 'exo1': False, 'exo2': True, 'exo3': True, 'exo4': True} \n",
      "\n",
      "u {'exo0': True, 'exo1': True, 'exo2': True, 'exo3': False, 'exo4': False, 'exo5': False} \n",
      "\n",
      "u {'exo0': True, 'exo1': True, 'exo2': False, 'exo3': True, 'exo4': True, 'exo5': True, 'exo6': True} \n",
      "\n",
      "u {'exo0': False, 'exo1': False, 'exo2': True, 'exo3': False, 'exo4': True, 'exo5': False, 'exo6': True, 'exo7': True} \n",
      "\n",
      "u {'exo0': False, 'exo1': True, 'exo2': True, 'exo3': False, 'exo4': True, 'exo5': False, 'exo6': True, 'exo7': False, 'exo8': True} \n",
      "\n"
     ]
    },
    {
     "ename": "KeyboardInterrupt",
     "evalue": "",
     "output_type": "error",
     "traceback": [
      "\u001b[0;31m---------------------------------------------------------------------------\u001b[0m",
      "\u001b[0;31mKeyboardInterrupt\u001b[0m                         Traceback (most recent call last)",
      "\u001b[0;32m<ipython-input-46-9ed5990ad802>\u001b[0m in \u001b[0;36m<module>\u001b[0;34m\u001b[0m\n\u001b[1;32m     68\u001b[0m     \u001b[0mstart\u001b[0m \u001b[0;34m=\u001b[0m \u001b[0mtime\u001b[0m\u001b[0;34m.\u001b[0m\u001b[0mtime\u001b[0m\u001b[0;34m(\u001b[0m\u001b[0;34m)\u001b[0m\u001b[0;34m\u001b[0m\u001b[0;34m\u001b[0m\u001b[0m\n\u001b[1;32m     69\u001b[0m     \u001b[0;31m#actual_cause_generator(fact,S)\u001b[0m\u001b[0;34m\u001b[0m\u001b[0;34m\u001b[0m\u001b[0;34m\u001b[0m\u001b[0m\n\u001b[0;32m---> 70\u001b[0;31m     \u001b[0mcounterfactual_cause_generator\u001b[0m\u001b[0;34m(\u001b[0m\u001b[0mfact\u001b[0m\u001b[0;34m,\u001b[0m\u001b[0mfoil\u001b[0m\u001b[0;34m,\u001b[0m\u001b[0mS\u001b[0m\u001b[0;34m)\u001b[0m\u001b[0;34m\u001b[0m\u001b[0;34m\u001b[0m\u001b[0m\n\u001b[0m\u001b[1;32m     71\u001b[0m     \u001b[0mend\u001b[0m \u001b[0;34m=\u001b[0m \u001b[0mtime\u001b[0m\u001b[0;34m.\u001b[0m\u001b[0mtime\u001b[0m\u001b[0;34m(\u001b[0m\u001b[0;34m)\u001b[0m\u001b[0;34m\u001b[0m\u001b[0;34m\u001b[0m\u001b[0m\n\u001b[1;32m     72\u001b[0m     \u001b[0mduree\u001b[0m \u001b[0;34m=\u001b[0m \u001b[0mend\u001b[0m \u001b[0;34m-\u001b[0m \u001b[0mstart\u001b[0m\u001b[0;34m\u001b[0m\u001b[0;34m\u001b[0m\u001b[0m\n",
      "\u001b[0;32m~/M1/S2/PLDAC/PL3/pldac_mais_pourquoi/main.py\u001b[0m in \u001b[0;36mcounterfactual_cause_generator\u001b[0;34m(fact, foil, Mu, verbose)\u001b[0m\n\u001b[1;32m    472\u001b[0m \t\"\"\"\n\u001b[1;32m    473\u001b[0m         \u001b[0;31m#CC1\u001b[0m\u001b[0;34m\u001b[0m\u001b[0;34m\u001b[0m\u001b[0;34m\u001b[0m\u001b[0m\n\u001b[0;32m--> 474\u001b[0;31m         \u001b[0mac\u001b[0m \u001b[0;34m=\u001b[0m \u001b[0mactual_cause_generator\u001b[0m\u001b[0;34m(\u001b[0m\u001b[0mfact\u001b[0m\u001b[0;34m,\u001b[0m\u001b[0mMu\u001b[0m\u001b[0;34m)\u001b[0m\u001b[0;34m\u001b[0m\u001b[0;34m\u001b[0m\u001b[0m\n\u001b[0m\u001b[1;32m    475\u001b[0m         \u001b[0mlx\u001b[0m \u001b[0;34m=\u001b[0m \u001b[0;34m[\u001b[0m\u001b[0;34m]\u001b[0m \u001b[0;31m#liste des causes partielles\u001b[0m\u001b[0;34m\u001b[0m\u001b[0;34m\u001b[0m\u001b[0m\n\u001b[1;32m    476\u001b[0m         \u001b[0;32mfor\u001b[0m \u001b[0mc\u001b[0m \u001b[0;32min\u001b[0m \u001b[0mac\u001b[0m\u001b[0;34m:\u001b[0m\u001b[0;34m\u001b[0m\u001b[0;34m\u001b[0m\u001b[0m\n",
      "\u001b[0;32m~/M1/S2/PLDAC/PL3/pldac_mais_pourquoi/main.py\u001b[0m in \u001b[0;36mactual_cause_generator\u001b[0;34m(fact, Mu, verbose)\u001b[0m\n\u001b[1;32m    461\u001b[0m                                 \u001b[0;32mif\u001b[0m \u001b[0mverbose\u001b[0m\u001b[0;34m:\u001b[0m\u001b[0;34m\u001b[0m\u001b[0;34m\u001b[0m\u001b[0m\n\u001b[1;32m    462\u001b[0m                                         \u001b[0mprint\u001b[0m\u001b[0;34m(\u001b[0m\u001b[0mx\u001b[0m\u001b[0;34m,\u001b[0m\u001b[0mtest_AC1\u001b[0m\u001b[0;34m(\u001b[0m\u001b[0mx\u001b[0m\u001b[0;34m,\u001b[0m\u001b[0mfact\u001b[0m\u001b[0;34m,\u001b[0m\u001b[0mMutmp\u001b[0m\u001b[0;34m)\u001b[0m\u001b[0;34m,\u001b[0m\u001b[0mtest_AC2\u001b[0m\u001b[0;34m(\u001b[0m\u001b[0mx\u001b[0m\u001b[0;34m,\u001b[0m\u001b[0mfact\u001b[0m\u001b[0;34m,\u001b[0m\u001b[0mMutmp\u001b[0m\u001b[0;34m)\u001b[0m\u001b[0;34m)\u001b[0m\u001b[0;34m\u001b[0m\u001b[0;34m\u001b[0m\u001b[0m\n\u001b[0;32m--> 463\u001b[0;31m                                 \u001b[0;32mif\u001b[0m  \u001b[0mtest_AC1\u001b[0m\u001b[0;34m(\u001b[0m\u001b[0mx\u001b[0m\u001b[0;34m,\u001b[0m\u001b[0mfact\u001b[0m\u001b[0;34m,\u001b[0m\u001b[0mMutmp\u001b[0m\u001b[0;34m)\u001b[0m \u001b[0;32mand\u001b[0m \u001b[0mtest_AC2\u001b[0m\u001b[0;34m(\u001b[0m\u001b[0mx\u001b[0m\u001b[0;34m,\u001b[0m\u001b[0mfact\u001b[0m\u001b[0;34m,\u001b[0m\u001b[0mMutmp\u001b[0m\u001b[0;34m)\u001b[0m\u001b[0;34m:\u001b[0m \u001b[0;31m#AC3 vraie par construction\u001b[0m\u001b[0;34m\u001b[0m\u001b[0;34m\u001b[0m\u001b[0m\n\u001b[0m\u001b[1;32m    464\u001b[0m                                         \u001b[0mlres\u001b[0m\u001b[0;34m.\u001b[0m\u001b[0mappend\u001b[0m\u001b[0;34m(\u001b[0m\u001b[0mx\u001b[0m\u001b[0;34m)\u001b[0m\u001b[0;34m\u001b[0m\u001b[0;34m\u001b[0m\u001b[0m\n\u001b[1;32m    465\u001b[0m         \u001b[0;32mreturn\u001b[0m \u001b[0mlres\u001b[0m\u001b[0;34m\u001b[0m\u001b[0;34m\u001b[0m\u001b[0m\n",
      "\u001b[0;32m~/M1/S2/PLDAC/PL3/pldac_mais_pourquoi/main.py\u001b[0m in \u001b[0;36mtest_AC2\u001b[0;34m(X, fact, Mu, verbose)\u001b[0m\n\u001b[1;32m    272\u001b[0m \u001b[0;34m\u001b[0m\u001b[0m\n\u001b[1;32m    273\u001b[0m                         \u001b[0mnewMu\u001b[0m \u001b[0;34m=\u001b[0m \u001b[0mSituation\u001b[0m\u001b[0;34m(\u001b[0m\u001b[0mMutmp\u001b[0m\u001b[0;34m.\u001b[0m\u001b[0mM\u001b[0m\u001b[0;34m,\u001b[0m\u001b[0mMutmp\u001b[0m\u001b[0;34m.\u001b[0m\u001b[0mu\u001b[0m\u001b[0;34m,\u001b[0m\u001b[0mnewv\u001b[0m\u001b[0;34m)\u001b[0m\u001b[0;34m\u001b[0m\u001b[0;34m\u001b[0m\u001b[0m\n\u001b[0;32m--> 274\u001b[0;31m                         \u001b[0;32mif\u001b[0m \u001b[0mcheck_not\u001b[0m\u001b[0;34m(\u001b[0m\u001b[0mfact\u001b[0m\u001b[0;34m,\u001b[0m\u001b[0mnewMu\u001b[0m\u001b[0;34m)\u001b[0m\u001b[0;34m:\u001b[0m\u001b[0;34m\u001b[0m\u001b[0;34m\u001b[0m\u001b[0m\n\u001b[0m\u001b[1;32m    275\u001b[0m                                 \u001b[0;32mreturn\u001b[0m \u001b[0;32mTrue\u001b[0m\u001b[0;34m\u001b[0m\u001b[0;34m\u001b[0m\u001b[0m\n\u001b[1;32m    276\u001b[0m         \u001b[0;32mreturn\u001b[0m \u001b[0;32mFalse\u001b[0m\u001b[0;34m\u001b[0m\u001b[0;34m\u001b[0m\u001b[0m\n",
      "\u001b[0;32m~/M1/S2/PLDAC/PL3/pldac_mais_pourquoi/main.py\u001b[0m in \u001b[0;36mcheck_not\u001b[0;34m(psi, Mu)\u001b[0m\n\u001b[1;32m    129\u001b[0m \t\"\"\"\n\u001b[1;32m    130\u001b[0m         \u001b[0;32mfor\u001b[0m \u001b[0mk\u001b[0m\u001b[0;34m,\u001b[0m\u001b[0mv\u001b[0m \u001b[0;32min\u001b[0m \u001b[0mpsi\u001b[0m\u001b[0;34m.\u001b[0m\u001b[0mitems\u001b[0m\u001b[0;34m(\u001b[0m\u001b[0;34m)\u001b[0m\u001b[0;34m:\u001b[0m\u001b[0;34m\u001b[0m\u001b[0;34m\u001b[0m\u001b[0m\n\u001b[0;32m--> 131\u001b[0;31m                 \u001b[0;32mif\u001b[0m \u001b[0mv\u001b[0m \u001b[0;34m!=\u001b[0m \u001b[0mvalue\u001b[0m\u001b[0;34m(\u001b[0m\u001b[0mk\u001b[0m\u001b[0;34m,\u001b[0m\u001b[0mMu\u001b[0m\u001b[0;34m)\u001b[0m\u001b[0;34m:\u001b[0m\u001b[0;34m\u001b[0m\u001b[0;34m\u001b[0m\u001b[0m\n\u001b[0m\u001b[1;32m    132\u001b[0m                         \u001b[0;32mreturn\u001b[0m \u001b[0;32mTrue\u001b[0m\u001b[0;34m\u001b[0m\u001b[0;34m\u001b[0m\u001b[0m\n\u001b[1;32m    133\u001b[0m         \u001b[0;32mreturn\u001b[0m \u001b[0;32mFalse\u001b[0m\u001b[0;34m\u001b[0m\u001b[0;34m\u001b[0m\u001b[0m\n",
      "\u001b[0;32m~/M1/S2/PLDAC/PL3/pldac_mais_pourquoi/main.py\u001b[0m in \u001b[0;36mvalue\u001b[0;34m(X, Mu, set_val)\u001b[0m\n\u001b[1;32m    100\u001b[0m                 \u001b[0;32mif\u001b[0m \u001b[0mMu\u001b[0m\u001b[0;34m.\u001b[0m\u001b[0mv\u001b[0m\u001b[0;34m[\u001b[0m\u001b[0mX\u001b[0m\u001b[0;34m]\u001b[0m \u001b[0;34m!=\u001b[0m \u001b[0;32mNone\u001b[0m\u001b[0;34m:\u001b[0m\u001b[0;34m\u001b[0m\u001b[0;34m\u001b[0m\u001b[0m\n\u001b[1;32m    101\u001b[0m                         \u001b[0;32mreturn\u001b[0m \u001b[0mMu\u001b[0m\u001b[0;34m.\u001b[0m\u001b[0mv\u001b[0m\u001b[0;34m[\u001b[0m\u001b[0mX\u001b[0m\u001b[0;34m]\u001b[0m\u001b[0;34m\u001b[0m\u001b[0;34m\u001b[0m\u001b[0m\n\u001b[0;32m--> 102\u001b[0;31m         \u001b[0mparents\u001b[0m \u001b[0;34m=\u001b[0m \u001b[0mMu\u001b[0m\u001b[0;34m.\u001b[0m\u001b[0mval_Parents\u001b[0m\u001b[0;34m(\u001b[0m\u001b[0mX\u001b[0m\u001b[0;34m)\u001b[0m   \u001b[0;31m#dictionnaire noeuds parent de X dans M.G -> valeur\u001b[0m\u001b[0;34m\u001b[0m\u001b[0;34m\u001b[0m\u001b[0m\n\u001b[0m\u001b[1;32m    103\u001b[0m         \u001b[0;32mif\u001b[0m \u001b[0mlen\u001b[0m\u001b[0;34m(\u001b[0m\u001b[0mparents\u001b[0m\u001b[0;34m)\u001b[0m \u001b[0;34m==\u001b[0m \u001b[0;36m0\u001b[0m\u001b[0;34m:\u001b[0m\u001b[0;34m\u001b[0m\u001b[0;34m\u001b[0m\u001b[0m\n\u001b[1;32m    104\u001b[0m         \u001b[0;31m#cas de base = racine : retourner sa valeur\u001b[0m\u001b[0;34m\u001b[0m\u001b[0;34m\u001b[0m\u001b[0;34m\u001b[0m\u001b[0m\n",
      "\u001b[0;32m~/M1/S2/PLDAC/PL3/pldac_mais_pourquoi/main.py\u001b[0m in \u001b[0;36mval_Parents\u001b[0;34m(self, X)\u001b[0m\n\u001b[1;32m     67\u001b[0m                         \u001b[0;32mif\u001b[0m \u001b[0mk\u001b[0m \u001b[0;32min\u001b[0m \u001b[0mlist\u001b[0m\u001b[0;34m(\u001b[0m\u001b[0mself\u001b[0m\u001b[0;34m.\u001b[0m\u001b[0mu\u001b[0m\u001b[0;34m.\u001b[0m\u001b[0mkeys\u001b[0m\u001b[0;34m(\u001b[0m\u001b[0;34m)\u001b[0m\u001b[0;34m)\u001b[0m\u001b[0;34m:\u001b[0m\u001b[0;34m\u001b[0m\u001b[0;34m\u001b[0m\u001b[0m\n\u001b[1;32m     68\u001b[0m                                 \u001b[0mres\u001b[0m\u001b[0;34m[\u001b[0m\u001b[0mk\u001b[0m\u001b[0;34m]\u001b[0m \u001b[0;34m=\u001b[0m \u001b[0mself\u001b[0m\u001b[0;34m.\u001b[0m\u001b[0mu\u001b[0m\u001b[0;34m[\u001b[0m\u001b[0mk\u001b[0m\u001b[0;34m]\u001b[0m\u001b[0;34m\u001b[0m\u001b[0;34m\u001b[0m\u001b[0m\n\u001b[0;32m---> 69\u001b[0;31m                         \u001b[0;32melif\u001b[0m \u001b[0mk\u001b[0m \u001b[0;32min\u001b[0m \u001b[0mlist\u001b[0m\u001b[0;34m(\u001b[0m\u001b[0mself\u001b[0m\u001b[0;34m.\u001b[0m\u001b[0mv\u001b[0m\u001b[0;34m.\u001b[0m\u001b[0mkeys\u001b[0m\u001b[0;34m(\u001b[0m\u001b[0;34m)\u001b[0m\u001b[0;34m)\u001b[0m\u001b[0;34m:\u001b[0m\u001b[0;34m\u001b[0m\u001b[0;34m\u001b[0m\u001b[0m\n\u001b[0m\u001b[1;32m     70\u001b[0m                                 \u001b[0mres\u001b[0m\u001b[0;34m[\u001b[0m\u001b[0mk\u001b[0m\u001b[0;34m]\u001b[0m \u001b[0;34m=\u001b[0m \u001b[0mself\u001b[0m\u001b[0;34m.\u001b[0m\u001b[0mv\u001b[0m\u001b[0;34m[\u001b[0m\u001b[0mk\u001b[0m\u001b[0;34m]\u001b[0m\u001b[0;34m\u001b[0m\u001b[0;34m\u001b[0m\u001b[0m\n\u001b[1;32m     71\u001b[0m                 \u001b[0;32mreturn\u001b[0m \u001b[0mres\u001b[0m\u001b[0;34m\u001b[0m\u001b[0;34m\u001b[0m\u001b[0m\n",
      "\u001b[0;31mKeyboardInterrupt\u001b[0m: "
     ]
    }
   ],
   "source": [
    "def gen_fun(inp):\n",
    "    def F(param):\n",
    "        return param[inp]\n",
    "    return F\n",
    "\n",
    "def gen_output_fun(N,mode):\n",
    "    assert mode in [\"AND\",\"OR\"]\n",
    "    if mode == \"AND\":\n",
    "        def OF(param):\n",
    "            a = True\n",
    "            for i in range(N):\n",
    "                a = a and param[str(i)]\n",
    "            return a\n",
    "    elif mode == \"OR\":\n",
    "        def OF(param):\n",
    "            a = False\n",
    "            for i in range(N):\n",
    "                a = a or param[str(i)]\n",
    "            return a\n",
    "    return OF\n",
    "\n",
    "def gen_graph(N,mode):\n",
    "    LF = []\n",
    "    for i in range(N):\n",
    "        f = gen_fun(\"exo\"+str(i))\n",
    "        LF.append(f)\n",
    "    of = gen_output_fun(N,mode)\n",
    "    LF.append(of)\n",
    "    P = {str(i):([\"exo\"+str(i)],LF[i]) for i in range(N)}\n",
    "    P[\"output\"] = ([str(i) for i in range(N)],LF[N])\n",
    "    C = {str(i):[\"output\"] for i in range(N)}\n",
    "    for i in range(N):\n",
    "        C[\"exo\"+str(i)] = str(i)\n",
    "    return CausalGraph(P,C)\n",
    "\n",
    "def gen_model(N,mode):\n",
    "    U = dict()\n",
    "    V = dict()\n",
    "    for i in range(N):\n",
    "        U[\"exo\"+str(i)] = [False,True]\n",
    "        V[str(i)] = [False,True]\n",
    "    V[\"output\"] = [False,True]\n",
    "    Graph = gen_graph(N,mode)\n",
    "    return Model(U,V,Graph)\n",
    "\n",
    "def gen_sit(N,mode,u=dict()):\n",
    "    Mod = gen_model(N,mode)\n",
    "    if len(u) != N:\n",
    "        u = {\"exo\"+str(i):bool(random.getrandbits(1)) for i in range(N)}\n",
    "    print(\"u\",u,\"\\n\")\n",
    "    v = dict()\n",
    "    return Situation(Mod,u,v)\n",
    "\n",
    "#temps d'exécution en fonction du nombre de variables.\n",
    "d = []\n",
    "for i in range(1,100):\n",
    "    G = gen_graph(i,\"AND\")\n",
    "    M = gen_model(i,\"AND\")\n",
    "    S = gen_sit(i,\"AND\")\n",
    "    S.set_val_v()\n",
    "    fact = {'output':S.v['output']}\n",
    "    foil =  {'output':not(S.v['output'])}\n",
    "    start = time.time()\n",
    "    #actual_cause_generator(fact,S)\n",
    "    counterfactual_cause_generator(fact,foil,S)\n",
    "    end = time.time()\n",
    "    duree = end - start\n",
    "    d.append(duree)\n",
    "print(d)\n",
    "    \n",
    "\n"
   ]
  },
  {
   "cell_type": "markdown",
   "metadata": {},
   "source": [
    "## temps d'exécution en fonction de la profondeur du graphe causale\n"
   ]
  },
  {
   "cell_type": "code",
   "execution_count": 51,
   "metadata": {},
   "outputs": [
    {
     "name": "stdout",
     "output_type": "stream",
     "text": [
      "[({'32': False}, {'32': True}), ({'12': False}, {'12': True}), ({'31': False}, {'31': True}), ({'11': False}, {'11': True})]\n",
      "[({'23': False}, {'23': True}), ({'13': False}, {'13': True}), ({'22': False}, {'22': True}), ({'21': False}, {'21': True}), ({'12': False}, {'12': True}), ({'11': False}, {'11': True})]\n",
      "[({'24': False}, {'24': True}), ({'23': False}, {'23': True}), ({'22': False}, {'22': True}), ({'21': False}, {'21': True})]\n"
     ]
    },
    {
     "ename": "KeyboardInterrupt",
     "evalue": "",
     "output_type": "error",
     "traceback": [
      "\u001b[0;31m---------------------------------------------------------------------------\u001b[0m",
      "\u001b[0;31mKeyboardInterrupt\u001b[0m                         Traceback (most recent call last)",
      "\u001b[0;32m<ipython-input-51-3caea06f676d>\u001b[0m in \u001b[0;36m<module>\u001b[0;34m\u001b[0m\n\u001b[1;32m     72\u001b[0m \u001b[0md\u001b[0m\u001b[0;34m=\u001b[0m\u001b[0;34m[\u001b[0m\u001b[0;34m]\u001b[0m\u001b[0;34m\u001b[0m\u001b[0;34m\u001b[0m\u001b[0m\n\u001b[1;32m     73\u001b[0m \u001b[0;32mfor\u001b[0m \u001b[0mi\u001b[0m \u001b[0;32min\u001b[0m \u001b[0mrange\u001b[0m\u001b[0;34m(\u001b[0m\u001b[0;36m3\u001b[0m\u001b[0;34m,\u001b[0m\u001b[0;36m10\u001b[0m\u001b[0;34m)\u001b[0m\u001b[0;34m:\u001b[0m\u001b[0;34m\u001b[0m\u001b[0;34m\u001b[0m\u001b[0m\n\u001b[0;32m---> 74\u001b[0;31m     \u001b[0md\u001b[0m\u001b[0;34m.\u001b[0m\u001b[0mappend\u001b[0m\u001b[0;34m(\u001b[0m\u001b[0mmain_test\u001b[0m\u001b[0;34m(\u001b[0m\u001b[0;36m3\u001b[0m\u001b[0;34m,\u001b[0m\u001b[0mi\u001b[0m\u001b[0;34m,\u001b[0m\u001b[0;34m\"AND\"\u001b[0m\u001b[0;34m)\u001b[0m\u001b[0;34m)\u001b[0m\u001b[0;34m\u001b[0m\u001b[0;34m\u001b[0m\u001b[0m\n\u001b[0m\u001b[1;32m     75\u001b[0m \u001b[0mprint\u001b[0m\u001b[0;34m(\u001b[0m\u001b[0md\u001b[0m\u001b[0;34m)\u001b[0m\u001b[0;34m\u001b[0m\u001b[0;34m\u001b[0m\u001b[0m\n",
      "\u001b[0;32m<ipython-input-51-3caea06f676d>\u001b[0m in \u001b[0;36mmain_test\u001b[0;34m(N, D, mode)\u001b[0m\n\u001b[1;32m     66\u001b[0m     \u001b[0mstart\u001b[0m \u001b[0;34m=\u001b[0m \u001b[0mtime\u001b[0m\u001b[0;34m.\u001b[0m\u001b[0mtime\u001b[0m\u001b[0;34m(\u001b[0m\u001b[0;34m)\u001b[0m\u001b[0;34m\u001b[0m\u001b[0;34m\u001b[0m\u001b[0m\n\u001b[1;32m     67\u001b[0m     \u001b[0;31m#actual_cause_generator(fact,S)\u001b[0m\u001b[0;34m\u001b[0m\u001b[0;34m\u001b[0m\u001b[0;34m\u001b[0m\u001b[0m\n\u001b[0;32m---> 68\u001b[0;31m     \u001b[0mprint\u001b[0m\u001b[0;34m(\u001b[0m\u001b[0mcounterfactual_cause_generator\u001b[0m\u001b[0;34m(\u001b[0m\u001b[0mfact\u001b[0m\u001b[0;34m,\u001b[0m\u001b[0mfoil\u001b[0m\u001b[0;34m,\u001b[0m\u001b[0mS\u001b[0m\u001b[0;34m)\u001b[0m\u001b[0;34m)\u001b[0m\u001b[0;34m\u001b[0m\u001b[0;34m\u001b[0m\u001b[0m\n\u001b[0m\u001b[1;32m     69\u001b[0m     \u001b[0mend\u001b[0m \u001b[0;34m=\u001b[0m \u001b[0mtime\u001b[0m\u001b[0;34m.\u001b[0m\u001b[0mtime\u001b[0m\u001b[0;34m(\u001b[0m\u001b[0;34m)\u001b[0m\u001b[0;34m\u001b[0m\u001b[0;34m\u001b[0m\u001b[0m\n\u001b[1;32m     70\u001b[0m     \u001b[0mduree\u001b[0m \u001b[0;34m=\u001b[0m \u001b[0mend\u001b[0m \u001b[0;34m-\u001b[0m \u001b[0mstart\u001b[0m\u001b[0;34m\u001b[0m\u001b[0;34m\u001b[0m\u001b[0m\n",
      "\u001b[0;32m~/M1/S2/PLDAC/PL3/pldac_mais_pourquoi/main.py\u001b[0m in \u001b[0;36mcounterfactual_cause_generator\u001b[0;34m(fact, foil, Mu, verbose)\u001b[0m\n\u001b[1;32m    551\u001b[0m                                                         \u001b[0mnewMu\u001b[0m \u001b[0;34m=\u001b[0m \u001b[0mSituation\u001b[0m\u001b[0;34m(\u001b[0m\u001b[0mMu\u001b[0m\u001b[0;34m.\u001b[0m\u001b[0mM\u001b[0m\u001b[0;34m,\u001b[0m\u001b[0mMu\u001b[0m\u001b[0;34m.\u001b[0m\u001b[0mu\u001b[0m\u001b[0;34m,\u001b[0m\u001b[0mnewv\u001b[0m\u001b[0;34m)\u001b[0m\u001b[0;34m\u001b[0m\u001b[0;34m\u001b[0m\u001b[0m\n\u001b[1;32m    552\u001b[0m                                                         \u001b[0;31m#test partial cause (y is a partial cause of foil under this Situation)\u001b[0m\u001b[0;34m\u001b[0m\u001b[0;34m\u001b[0m\u001b[0;34m\u001b[0m\u001b[0m\n\u001b[0;32m--> 553\u001b[0;31m                                                         \u001b[0mlac\u001b[0m \u001b[0;34m=\u001b[0m \u001b[0mactual_cause_generator\u001b[0m\u001b[0;34m(\u001b[0m\u001b[0mfoil\u001b[0m\u001b[0;34m,\u001b[0m\u001b[0mnewMu\u001b[0m\u001b[0;34m)\u001b[0m\u001b[0;34m\u001b[0m\u001b[0;34m\u001b[0m\u001b[0m\n\u001b[0m\u001b[1;32m    554\u001b[0m                                                         \u001b[0;32mfor\u001b[0m \u001b[0mc\u001b[0m \u001b[0;32min\u001b[0m \u001b[0mlac\u001b[0m\u001b[0;34m:\u001b[0m \u001b[0;31m#we must test for each of these cause if X=y \\in c\u001b[0m\u001b[0;34m\u001b[0m\u001b[0;34m\u001b[0m\u001b[0m\n\u001b[1;32m    555\u001b[0m                                                                 \u001b[0;32mif\u001b[0m \u001b[0mverbose\u001b[0m\u001b[0;34m:\u001b[0m\u001b[0;34m\u001b[0m\u001b[0;34m\u001b[0m\u001b[0m\n",
      "\u001b[0;32m~/M1/S2/PLDAC/PL3/pldac_mais_pourquoi/main.py\u001b[0m in \u001b[0;36mactual_cause_generator\u001b[0;34m(fact, Mu, verbose)\u001b[0m\n\u001b[1;32m    452\u001b[0m                         \u001b[0mprint\u001b[0m\u001b[0;34m(\u001b[0m\u001b[0mlx\u001b[0m\u001b[0;34m)\u001b[0m\u001b[0;34m\u001b[0m\u001b[0;34m\u001b[0m\u001b[0m\n\u001b[1;32m    453\u001b[0m                         \u001b[0mprint\u001b[0m\u001b[0;34m(\u001b[0m\u001b[0mlres\u001b[0m\u001b[0;34m)\u001b[0m\u001b[0;34m\u001b[0m\u001b[0;34m\u001b[0m\u001b[0m\n\u001b[0;32m--> 454\u001b[0;31m                 \u001b[0;32mif\u001b[0m \u001b[0;32mnot\u001b[0m \u001b[0msub\u001b[0m\u001b[0;34m(\u001b[0m\u001b[0mfact\u001b[0m\u001b[0;34m,\u001b[0m\u001b[0mx\u001b[0m\u001b[0;34m)\u001b[0m\u001b[0;34m:\u001b[0m \u001b[0;31m#on ne veut pas que le fact se retrouve comme cause de lui meme.\u001b[0m\u001b[0;34m\u001b[0m\u001b[0;34m\u001b[0m\u001b[0m\n\u001b[0m\u001b[1;32m    455\u001b[0m                         \u001b[0mcondAC3\u001b[0m \u001b[0;34m=\u001b[0m \u001b[0;32mTrue\u001b[0m\u001b[0;34m\u001b[0m\u001b[0;34m\u001b[0m\u001b[0m\n\u001b[1;32m    456\u001b[0m                         \u001b[0;32mfor\u001b[0m \u001b[0md\u001b[0m \u001b[0;32min\u001b[0m \u001b[0mlres\u001b[0m\u001b[0;34m:\u001b[0m\u001b[0;34m\u001b[0m\u001b[0;34m\u001b[0m\u001b[0m\n",
      "\u001b[0;31mKeyboardInterrupt\u001b[0m: "
     ]
    }
   ],
   "source": [
    "def gen_output_fun2(N,D,mode):\n",
    "    assert mode in [\"AND\",\"OR\"]\n",
    "    if mode == \"AND\":\n",
    "        def OF(param):\n",
    "            a = True\n",
    "            for i in range(1,N+1):\n",
    "                a = a and param[str(i)+str(D-1)]\n",
    "            return a\n",
    "    elif mode == \"OR\":\n",
    "        def OF(param):\n",
    "            a = False\n",
    "            for i in range(1,N+1):\n",
    "                a = a or param[str(i)+str(D-1)]\n",
    "            return a\n",
    "    return OF\n",
    "def gen_graph_2(N,D,mode):\n",
    "    LF = []\n",
    "    cpt = 0\n",
    "    endo = []\n",
    "    for i in range(1,N+1):\n",
    "        tmp = []\n",
    "        for j in range(0,D-1):\n",
    "            f = gen_fun(str(i)+str(j))\n",
    "            tmp.append(f)\n",
    "        LF.append(tmp)\n",
    "    #functions = [[F10,F11,F12,F13,F14....F1(D-1)],[[20,21,22,23,24....2(D-1)]]]\n",
    "    #variables = [[10,11,12,13,14],[20,21,22,23,24],[30,31,32,33,34]] n0 ==> variable exogène numero n \n",
    "    of = gen_output_fun2(N,D,mode)\n",
    "    LF.append([of])\n",
    "    P = {}\n",
    "    C = {}\n",
    "    for i in range(1,N+1): \n",
    "        for j in range(D-1):\n",
    "            P[str(i)+str(j+1)]= [str(i)+str(j)],LF[i-1][j]\n",
    "            C[str(i)+str(j)]=[str(i)+str(j+1)] \n",
    "    P[\"output\"] = ([str(i)+str(D-1) for i in range(1,N+1)],LF[N][0])\n",
    "    for i in range(1,N+1):\n",
    "        C[str(i)+str(D-1)]= [\"output\"]\n",
    "    return CausalGraph(P,C)\n",
    "\n",
    "def gen_model_2(N,D,mode):\n",
    "    U = dict()\n",
    "    V = dict()\n",
    "    for i in range(1,N+1):\n",
    "        U[str(i)+\"0\"] = [False,True]\n",
    "        for j in range(1,D):\n",
    "            V[str(i)+str(j)] = [False,True]\n",
    "    V[\"output\"] = [False,True]\n",
    "    Graph = gen_graph_2(N,D,mode)\n",
    "    return Model(U,V,Graph)\n",
    "\n",
    "def gen_sit_2(N,D,mode,u=dict()):\n",
    "    Mod = gen_model_2(N,D,mode)\n",
    "    if len(u) != N:\n",
    "        u = {str(i)+\"0\":bool(random.getrandbits(1)) for i in range(1,N+1)}\n",
    "    v = dict()\n",
    "    return Situation(Mod,u,v) \n",
    "\n",
    "def main_test(N,D,mode):\n",
    "    G = gen_graph_2(N,D,mode)\n",
    "    M = gen_model_2(N,D,mode)\n",
    "    S = gen_sit_2(N,D,mode)\n",
    "    S.set_val_v()\n",
    "    fact = {'output':S.v['output']}\n",
    "    foil =  {'output':not(S.v['output'])}\n",
    "    start = time.time()\n",
    "    #actual_cause_generator(fact,S)\n",
    "    print(counterfactual_cause_generator(fact,foil,S))\n",
    "    end = time.time()\n",
    "    duree = end - start\n",
    "    return duree\n",
    "d=[]\n",
    "for i in range(3,10):\n",
    "    d.append(main_test(3,i,\"AND\"))\n",
    "print(d)"
   ]
  },
  {
   "cell_type": "code",
   "execution_count": null,
   "metadata": {},
   "outputs": [],
   "source": []
  }
 ],
 "metadata": {
  "kernelspec": {
   "display_name": "Python 3",
   "language": "python",
   "name": "python3"
  },
  "language_info": {
   "codemirror_mode": {
    "name": "ipython",
    "version": 3
   },
   "file_extension": ".py",
   "mimetype": "text/x-python",
   "name": "python",
   "nbconvert_exporter": "python",
   "pygments_lexer": "ipython3",
   "version": "3.7.6"
  }
 },
 "nbformat": 4,
 "nbformat_minor": 4
}
