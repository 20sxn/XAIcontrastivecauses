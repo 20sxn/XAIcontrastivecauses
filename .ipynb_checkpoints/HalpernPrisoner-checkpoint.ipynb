{
 "cells": [
  {
   "cell_type": "code",
   "execution_count": 1,
   "metadata": {},
   "outputs": [],
   "source": [
    "#prisonner example (Halpern 2015)\n",
    "\n",
    "from main import *\n",
    "\n",
    "def compute_A(param):\n",
    "    return param['Aexo']\n",
    "\n",
    "def compute_B(param):\n",
    "    return param['Bexo']\n",
    "\n",
    "def compute_C(param):\n",
    "    return param['Cexo']\n",
    "\n",
    "def compute_D(param):\n",
    "    return (param['A'] and param['B']) or param['C']\n",
    "\n",
    "\n",
    "# Exogenous variables\n",
    "U = {'Aexo':[False, True], \\\n",
    "    'Bexo':[False, True],\\\n",
    "    'Cexo':[False, True]}\n",
    "\n",
    "# Endogenous variables\n",
    "V = {'A':[False, True], \\\n",
    "    'B':[False, True], \\\n",
    "    'C':[False, True], \\\n",
    "    'D':[False, True]}\n",
    "\n",
    "# Parent node for each endogenous variable\n",
    "P = {'A':(['Aexo'],compute_A), \\\n",
    "    'B':(['Bexo'],compute_B), \\\n",
    "    'C':(['Cexo'],compute_C),\\\n",
    "    'D':(['A','B','C'],compute_D)}\n",
    "\n",
    "C =  {'Aexo':['A'], \\\n",
    "    'Bexo':['B'], \\\n",
    "    'Cexo':['C'], \\\n",
    "    'A':['D'],\\\n",
    "    'B':['D'],\\\n",
    "    'C':['D']}\n",
    "\n",
    "# Construction of situation (M,u)\n",
    "Graph = CausalGraph(P,C)\n",
    "Mod = Model(U,V,Graph)\n",
    "\n"
   ]
  },
  {
   "cell_type": "markdown",
   "metadata": {},
   "source": [
    "Dans cet exemple, Halpern présente l'exemple d'un prisonnier qui doit se faire exécuter (```D```). Une personne ```A``` charge ou non un pistolet, le geolier ```B``` apuie ou non sur la gachette de ce pistolet. Un autre garde ```C``` tire ou non indépendamment des actions de ```A``` et de ```B```. <br>\n",
    "Donc on peut calculer la valeur de ```D``` de la façon suivante :<br>\n",
    "$D = (A \\land B) \\lor C$ <br>\n",
    "Avec la définition de Halpern, on devrait avoir que ```A``` n'est une pas cause s'il charge le pistolet mais que ```B```ne presse pas la détente.\n"
   ]
  },
  {
   "cell_type": "markdown",
   "metadata": {},
   "source": [
    "## Premier scenario"
   ]
  },
  {
   "cell_type": "code",
   "execution_count": 2,
   "metadata": {},
   "outputs": [
    {
     "name": "stdout",
     "output_type": "stream",
     "text": [
      "[{'C': True}]\n"
     ]
    }
   ],
   "source": [
    "u = {'Aexo': True,'Bexo':False,'Cexo':True} #A charge le pistolet, B ne tire pas, C tire.\n",
    "v = dict()\n",
    "\n",
    "Sit = Situation(Mod,u,v)\n",
    "\n",
    "fact = {'D':True}\n",
    "lc = actual_cause_generator_v2(fact,Sit)\n",
    "print(lc)"
   ]
  },
  {
   "cell_type": "markdown",
   "metadata": {},
   "source": [
    "Dans cette situation la, on a bien que seul ```C``` est cause de la mort du prisonnier"
   ]
  },
  {
   "cell_type": "markdown",
   "metadata": {},
   "source": [
    "On peut vérifier que c'est bien une cause effective."
   ]
  },
  {
   "cell_type": "code",
   "execution_count": 3,
   "metadata": {},
   "outputs": [
    {
     "name": "stdout",
     "output_type": "stream",
     "text": [
      "True\n",
      "True\n",
      "True\n",
      "-----\n"
     ]
    }
   ],
   "source": [
    "for c in lc:\n",
    "    print(test_AC1(c,fact,Sit))\n",
    "    print(test_AC2v2(c,fact,Sit))\n",
    "    print(test_AC3v2(c,fact,Sit))\n",
    "    print('-'*5)"
   ]
  },
  {
   "cell_type": "markdown",
   "metadata": {},
   "source": [
    "## Deuxième scenario"
   ]
  },
  {
   "cell_type": "code",
   "execution_count": 4,
   "metadata": {},
   "outputs": [
    {
     "name": "stdout",
     "output_type": "stream",
     "text": [
      "[{'B': True}, {'A': True}]\n"
     ]
    }
   ],
   "source": [
    "u = {'Aexo': True,'Bexo':True,'Cexo':False} #A charge le pistolet, B tire, C ne tire pas\n",
    "v = dict()\n",
    "\n",
    "Sit = Situation(Mod,u,v)\n",
    "\n",
    "fact = {'D':True}\n",
    "lc = actual_cause_generator_v2(fact,Sit)\n",
    "print(lc)"
   ]
  },
  {
   "cell_type": "markdown",
   "metadata": {},
   "source": [
    "Dans ce cas là, on trouve 2 causes:\n",
    "```B``` a tiré \"ou\" ```A``` à chargé le pistolet.<br>\n",
    "C'est logique, si l'un des 2 n'avait pas agit de cette facon, alors le prisonnier ne serait pas mort.\n"
   ]
  },
  {
   "cell_type": "markdown",
   "metadata": {},
   "source": [
    "On peut vérifier que c'est bien une cause effective."
   ]
  },
  {
   "cell_type": "code",
   "execution_count": 5,
   "metadata": {},
   "outputs": [
    {
     "name": "stdout",
     "output_type": "stream",
     "text": [
      "True\n",
      "True\n",
      "True\n",
      "-----\n",
      "True\n",
      "True\n",
      "True\n",
      "-----\n"
     ]
    }
   ],
   "source": [
    "for c in lc:\n",
    "    print(test_AC1(c,fact,Sit))\n",
    "    print(test_AC2v2(c,fact,Sit))\n",
    "    print(test_AC3v2(c,fact,Sit))\n",
    "    print('-'*5)"
   ]
  },
  {
   "cell_type": "markdown",
   "metadata": {},
   "source": [
    "## Troisième scenario"
   ]
  },
  {
   "cell_type": "code",
   "execution_count": 6,
   "metadata": {},
   "outputs": [
    {
     "name": "stdout",
     "output_type": "stream",
     "text": [
      "[{'B': True, 'C': True}, {'A': True, 'C': True}]\n"
     ]
    }
   ],
   "source": [
    "u = {'Aexo': True,'Bexo':True,'Cexo':True} #A charge le pistolet, B tire, C  tire\n",
    "v = dict()\n",
    "\n",
    "Sit = Situation(Mod,u,v)\n",
    "\n",
    "fact = {'D':True}\n",
    "lc = actual_cause_generator_v2(fact,Sit)\n",
    "print(lc)"
   ]
  },
  {
   "cell_type": "markdown",
   "metadata": {},
   "source": [
    "On trouve 2 causes :\n",
    "(```B``` et ```C``` ont tiré) ou (```A``` à chargé le pistolet et ```C``` à tiré) <br>\n",
    "Pour ne pas que le prisonnier meurt, il faudrait soit que ```B``` et ```C``` changent leurs actions ou que ```A``` et ```C``` changent leurs actions"
   ]
  },
  {
   "cell_type": "code",
   "execution_count": 7,
   "metadata": {},
   "outputs": [
    {
     "name": "stdout",
     "output_type": "stream",
     "text": [
      "True\n",
      "True\n",
      "True\n",
      "-----\n",
      "True\n",
      "True\n",
      "True\n",
      "-----\n"
     ]
    }
   ],
   "source": [
    "for c in lc:\n",
    "    print(test_AC1(c,fact,Sit))\n",
    "    print(test_AC2v2(c,fact,Sit))\n",
    "    print(test_AC3v2(c,fact,Sit))\n",
    "    print('-'*5)"
   ]
  },
  {
   "cell_type": "code",
   "execution_count": null,
   "metadata": {},
   "outputs": [],
   "source": []
  },
  {
   "cell_type": "code",
   "execution_count": null,
   "metadata": {},
   "outputs": [],
   "source": []
  }
 ],
 "metadata": {
  "kernelspec": {
   "display_name": "Python 3",
   "language": "python",
   "name": "python3"
  },
  "language_info": {
   "codemirror_mode": {
    "name": "ipython",
    "version": 3
   },
   "file_extension": ".py",
   "mimetype": "text/x-python",
   "name": "python",
   "nbconvert_exporter": "python",
   "pygments_lexer": "ipython3",
   "version": "3.7.6"
  }
 },
 "nbformat": 4,
 "nbformat_minor": 5
}
