{
 "cells": [
  {
   "cell_type": "code",
   "execution_count": 7,
   "id": "9a4eba7c",
   "metadata": {},
   "outputs": [],
   "source": [
    "### Example of Miller with anthopods\n",
    "\n",
    "from main import *\n",
    "\n",
    "# Functions to compute endogenous variables\n",
    "def compute_nb_legs(param):\n",
    "    U = param['U']\n",
    "    if U == \"Spider\":\n",
    "        return 8\n",
    "    elif U == \"Beetle\":\n",
    "        return 6\n",
    "    elif U == \"Bee\":\n",
    "        return 6\n",
    "    elif U == \"Fly\":\n",
    "        return 6\n",
    "    else:\n",
    "        return None\n",
    "\n",
    "def compute_stinger(param):\n",
    "    U = param['U']\n",
    "    if U == \"Spider\":\n",
    "        return False\n",
    "    elif U == \"Beetle\":\n",
    "        return False\n",
    "    elif U == \"Bee\":\n",
    "        return True\n",
    "    elif U == \"Fly\":\n",
    "        return False\n",
    "    else:\n",
    "        return None\n",
    "\n",
    "def compute_nb_eyes(param):\n",
    "    U = param['U']\n",
    "    if U == \"Spider\":\n",
    "        return 8\n",
    "    elif U == \"Beetle\":\n",
    "        return 2\n",
    "    elif U == \"Bee\":\n",
    "        return 5\n",
    "    elif U == \"Fly\":\n",
    "        return 5\n",
    "    else:\n",
    "        return None\n",
    "\n",
    "def compute_compound_eyes(param):\n",
    "    U = param['U']\n",
    "    if U == \"Spider\":\n",
    "        return False\n",
    "    elif U == \"Beetle\":\n",
    "        return True\n",
    "    elif U == \"Bee\":\n",
    "        return True\n",
    "    elif U == \"Fly\":\n",
    "        return True\n",
    "    else:\n",
    "        return None\n",
    "\n",
    "def compute_wings(param):\n",
    "    U = param['U']\n",
    "    if U == \"Spider\":\n",
    "        return 0\n",
    "    elif U == \"Beetle\":\n",
    "        return 2\n",
    "    elif U == \"Bee\":\n",
    "        return 4\n",
    "    elif U == \"Fly\":\n",
    "        return 2\n",
    "    else:\n",
    "        return None\n",
    "\n",
    "def compute_output(param):\n",
    "    (nb_legs,stinger,nb_eyes,compound_eyes,wings) = (param[\"nb_legs\"],param[\"stinger\"],param[\"nb_eyes\"],param[\"compound_eyes\"],param[\"wings\"],)\n",
    "    if (nb_legs,stinger,nb_eyes,compound_eyes,wings) == (8,False,8,False,0):\n",
    "        return \"Spider\"\n",
    "    elif (nb_legs,stinger,nb_eyes,compound_eyes,wings) == (6,False,2,True,2):\n",
    "        return \"Beetle\"\n",
    "    elif (nb_legs,stinger,nb_eyes,compound_eyes,wings) == (6,True,5,True,4):\n",
    "        return \"Bee\"\n",
    "    elif (nb_legs,stinger,nb_eyes,compound_eyes,wings) == (6,False,5,True,2):\n",
    "        return \"Fly\"\n",
    "    else:\n",
    "        return \"Unknown\"\n",
    "\n",
    "# Exogenous variables\n",
    "U = {'U': [\"Spider\", \"Beetle\", \"Bee\", \"Fly\"]}\n",
    "\n",
    "# Endogenous variables\n",
    "V = {'nb_legs' : [6, 8], \\\n",
    "    'stinger' : [True, False], \\\n",
    "    'nb_eyes' : [2, 5, 8], \\\n",
    "    'compound_eyes' : [True, False], \\\n",
    "    'wings' : [0, 2, 4], \\\n",
    "    'output': [\"Spider\", \"Beetle\", \"Bee\", \"Fly\",\"Unknown\"]}\n",
    "\n",
    "# Parent node for each endogenous variable\n",
    "P = {'nb_legs' : (['U'],compute_nb_legs), \\\n",
    "    'stinger' : (['U'],compute_stinger), \\\n",
    "    'nb_eyes' : (['U'],compute_nb_eyes), \\\n",
    "    'compound_eyes' : (['U'],compute_compound_eyes), \\\n",
    "    'wings' : (['U'],compute_wings), \\\n",
    "    'output' : (['nb_legs','stinger','nb_eyes','compound_eyes','wings'],compute_output)}\n",
    "\n",
    "C =  {'U' : ['nb_legs','stinger','nb_eyes','compound_eyes','wings'], \\\n",
    "    'nb_legs' : ['output'], \\\n",
    "    'stinger' : ['output'], \\\n",
    "    'nb_eyes' : ['output'], \\\n",
    "\t'compound_eyes' : ['output'], \\\n",
    "    'wings' : ['output'],\\\n",
    "\t'output' : []}\n",
    "\n",
    "# Construction of situation (M,u)\n",
    "Graph = CausalGraph(P,C)\n",
    "Mod = Model(U,V,Graph)\n",
    "\n",
    "#First Situation\n",
    "u = {'U': \"Spider\"}\n",
    "v = {'nb_legs' : 8, \\\n",
    "    'stinger' : False, \\\n",
    "    'nb_eyes' : 8, \\\n",
    "    'compound_eyes' : False, \\\n",
    "    'wings' : 0, \\\n",
    "    'output': \"Spider\"}\n",
    "\n",
    "Sit = Situation(Mod,u,v)\n",
    "\n",
    "#Second Situation\n",
    "u1 = {'U': \"Bee\"}\n",
    "v1 = {'nb_legs' : 6, \\\n",
    "    'stinger' : True, \\\n",
    "    'nb_eyes' : 5, \\\n",
    "    'compound_eyes' : True, \\\n",
    "    'wings' : 4, \\\n",
    "    'output': \"Bee\"}\n",
    "\n",
    "Sit1 = Situation(Mod,u1,v1)"
   ]
  },
  {
   "cell_type": "markdown",
   "id": "2120d5c8",
   "metadata": {},
   "source": [
    "## Fonction de calculs de base"
   ]
  },
  {
   "cell_type": "markdown",
   "id": "6c2a8980",
   "metadata": {},
   "source": [
    "### Calcul de valeurs d'une variable"
   ]
  },
  {
   "cell_type": "code",
   "execution_count": 8,
   "id": "e7644fea",
   "metadata": {},
   "outputs": [
    {
     "name": "stdout",
     "output_type": "stream",
     "text": [
      "{'nb_legs': 8, 'stinger': False, 'nb_eyes': 8, 'compound_eyes': False, 'wings': 0, 'output': 'Spider'}\n",
      "{'nb_legs': None, 'stinger': None, 'nb_eyes': None, 'compound_eyes': None, 'wings': None, 'output': None}\n",
      "8\n",
      "Spider\n",
      "{'nb_legs': 8, 'stinger': False, 'nb_eyes': 8, 'compound_eyes': False, 'wings': 0, 'output': 'Spider'}\n"
     ]
    }
   ],
   "source": [
    "print(Sit.v)\n",
    "Sit.reset_val_v()\n",
    "print(Sit.v)\n",
    "print(value('nb_legs',Sit)) #a cet instant on ne connait aucune valeurs des variables de V\n",
    "                            #on calcule les valeurs des variables a partir des variables exogênes.\n",
    "print(value('output',Sit)) #de même pour l'output\n",
    "\n",
    "Sit.set_val_v()\n",
    "print(Sit.v)"
   ]
  },
  {
   "cell_type": "markdown",
   "id": "ca8451f4",
   "metadata": {},
   "source": [
    "### Verification d'un fait"
   ]
  },
  {
   "cell_type": "code",
   "execution_count": 10,
   "id": "436f3462",
   "metadata": {},
   "outputs": [
    {
     "name": "stdout",
     "output_type": "stream",
     "text": [
      "True\n",
      "False\n",
      "False\n",
      "True\n"
     ]
    }
   ],
   "source": [
    "fact = {'output': \"Bee\"}\n",
    "foil = {'output': \"Fly\"}\n",
    "print(check(fact,Sit1))\n",
    "print(check(foil,Sit1))\n",
    "print(check_not(fact,Sit1))\n",
    "print(check_not(foil,Sit1))"
   ]
  },
  {
   "cell_type": "markdown",
   "id": "049b72ec",
   "metadata": {},
   "source": [
    "## Générateurs de causes"
   ]
  },
  {
   "cell_type": "markdown",
   "id": "4faa578a",
   "metadata": {},
   "source": [
    "### Causes effectives (AC)"
   ]
  },
  {
   "cell_type": "code",
   "execution_count": 12,
   "id": "f45ef8a2",
   "metadata": {},
   "outputs": [
    {
     "name": "stdout",
     "output_type": "stream",
     "text": [
      "[{'wings': 4}, {'compound_eyes': True}, {'nb_eyes': 5}, {'stinger': True}, {'nb_legs': 6}]\n"
     ]
    }
   ],
   "source": [
    "print(actual_cause_generator_v2(fact,Sit1)) #on utilise la v2 car la première version de AC2 ne semble pas fonctionner."
   ]
  },
  {
   "cell_type": "markdown",
   "id": "a54281d3",
   "metadata": {},
   "source": [
    "On peut voir qu'il y a 5 causes effectives du fait ```{'output': \"Bee\"}```.<br>\n",
    "Dans cet exemple on ne peut pas regarder des causes d'autres variables endogènes car le graphe n'est pas assez profond."
   ]
  },
  {
   "cell_type": "markdown",
   "id": "05380952",
   "metadata": {},
   "source": [
    "### Causes contrefactuelles (CC)"
   ]
  },
  {
   "cell_type": "code",
   "execution_count": 15,
   "id": "cf843473",
   "metadata": {},
   "outputs": [
    {
     "name": "stdout",
     "output_type": "stream",
     "text": [
      "[({'wings': 4}, {'wings': 2}), ({'stinger': True}, {'stinger': False})]\n"
     ]
    }
   ],
   "source": [
    "print(counterfactual_cause_generator(fact,foil,Sit1))"
   ]
  },
  {
   "cell_type": "markdown",
   "id": "16f3ac08",
   "metadata": {},
   "source": [
    "On retrouve bien les 2 même causes données par Miller dans l'exemple."
   ]
  },
  {
   "cell_type": "code",
   "execution_count": null,
   "id": "a9762c75",
   "metadata": {},
   "outputs": [],
   "source": []
  }
 ],
 "metadata": {
  "kernelspec": {
   "display_name": "Python 3 (ipykernel)",
   "language": "python",
   "name": "python3"
  },
  "language_info": {
   "codemirror_mode": {
    "name": "ipython",
    "version": 3
   },
   "file_extension": ".py",
   "mimetype": "text/x-python",
   "name": "python",
   "nbconvert_exporter": "python",
   "pygments_lexer": "ipython3",
   "version": "3.8.8"
  }
 },
 "nbformat": 4,
 "nbformat_minor": 5
}
