{
 "cells": [
  {
   "cell_type": "code",
   "execution_count": 1,
   "id": "d208b9d4",
   "metadata": {},
   "outputs": [],
   "source": [
    "#Suzy, Bill and bottle example from Halpern 2015\n",
    "#maybe delete STexo and BTexo and put ST and BT as endogenous\n",
    "\n",
    "from main import *\n",
    "\n",
    "def compute_ST(param):\n",
    "    return param['STexo']\n",
    "\n",
    "def compute_BT(param):\n",
    "    return param['BTexo']\n",
    "\n",
    "def compute_BS(param):\n",
    "    return param['SH'] or param['BH']\n",
    "\n",
    "def compute_SH(param):\n",
    "    return param['ST']\n",
    "\n",
    "def compute_BH(param):\n",
    "    return param['BT'] and not(param['SH'])\n",
    "\n",
    "# Exogenous variables\n",
    "U = {'STexo':[False, True], \\\n",
    "    'BTexo':[False, True]}\n",
    "\n",
    "# Endogenous variables\n",
    "V = {'ST':[False, True], \\\n",
    "    'BT':[False, True], \\\n",
    "    'BS':[False, True], \\\n",
    "    'SH':[False, True], \\\n",
    "    'BH':[False, True]}\n",
    "\n",
    "# Parent node for each endogenous variable\n",
    "P = {'ST':(['STexo'],compute_ST), \\\n",
    "    'BT':(['BTexo'],compute_BT), \\\n",
    "    'BS':(['SH','BH'],compute_BS),\\\n",
    "    'SH':(['ST'],compute_SH),\\\n",
    "    'BH':(['BT','SH'],compute_BH)}\n",
    "\n",
    "C =  {'STexo':['ST'], \\\n",
    "    'BTexo':['BT'], \\\n",
    "    'BH':['BS'], \\\n",
    "    'SH':['BS','BH'],\\\n",
    "    'ST':['SH'],\\\n",
    "    'BT':['BH']}\n",
    "\n",
    "# Construction of situation (M,u)\n",
    "Graph = CausalGraph(P,C)\n",
    "Mod = Model(U,V,Graph)\n",
    "\n",
    "u = {'STexo': True,'BTexo':True}\n",
    "v = dict()\n",
    "\n",
    "Sit = Situation(Mod,u,v)"
   ]
  },
  {
   "cell_type": "markdown",
   "id": "a5e250c9",
   "metadata": {},
   "source": [
    "Dans cet exemple, Suzy lance une pierre (```ST```), puis Bill lance un caillou (```BT```), Suzy touche (```SH```), la bouteille se brise (```BS```), et donc Bill ne touche pas (```BH```). <br>\n",
    "Avec la définition de Halpern de 2015 d'une cause effective, on devrait avoir que Bill n'est pas une cause du fait que la bouteille soit cassée."
   ]
  },
  {
   "cell_type": "code",
   "execution_count": 2,
   "id": "08f97ad7",
   "metadata": {},
   "outputs": [
    {
     "name": "stdout",
     "output_type": "stream",
     "text": [
      "[{'SH': True}, {'ST': True}]\n"
     ]
    }
   ],
   "source": [
    "fact = {'BS' : True}\n",
    "print(actual_cause_generator(fact,Sit))"
   ]
  },
  {
   "cell_type": "markdown",
   "id": "fa03e96c",
   "metadata": {},
   "source": [
    "On obtient bien que seule Suzy est la cause du fait."
   ]
  },
  {
   "cell_type": "code",
   "execution_count": 3,
   "id": "0a728a00",
   "metadata": {},
   "outputs": [
    {
     "name": "stdout",
     "output_type": "stream",
     "text": [
      "[{'BH': True}, {'BT': True}]\n"
     ]
    }
   ],
   "source": [
    "Sit.u['STexo'] = False\n",
    "print(actual_cause_generator(fact,Sit))"
   ]
  },
  {
   "cell_type": "markdown",
   "id": "fab32407",
   "metadata": {},
   "source": [
    "Si Suzy ne lance pas de pierre, on obtient bien que la bouteille se fracasse et que Bill en est la cause effective."
   ]
  },
  {
   "cell_type": "code",
   "execution_count": null,
   "id": "258bee16",
   "metadata": {},
   "outputs": [],
   "source": []
  }
 ],
 "metadata": {
  "kernelspec": {
   "display_name": "Python 3 (ipykernel)",
   "language": "python",
   "name": "python3"
  },
  "language_info": {
   "codemirror_mode": {
    "name": "ipython",
    "version": 3
   },
   "file_extension": ".py",
   "mimetype": "text/x-python",
   "name": "python",
   "nbconvert_exporter": "python",
   "pygments_lexer": "ipython3",
   "version": "3.8.8"
  }
 },
 "nbformat": 4,
 "nbformat_minor": 5
}
